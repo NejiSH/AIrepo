{
 "cells": [
  {
   "cell_type": "code",
   "execution_count": 3,
   "id": "13092741",
   "metadata": {},
   "outputs": [
    {
     "name": "stdout",
     "output_type": "stream",
     "text": [
      "[2002, 2009, 2016, 2023, 2037, 2044, 2051, 2058, 2072, 2079, 2086, 2093, 2107, 2114, 2121, 2128, 2142, 2149, 2156, 2163, 2177, 2184, 2191, 2198, 2212, 2219, 2226, 2233, 2247, 2254, 2261, 2268, 2282, 2289, 2296, 2303, 2317, 2324, 2331, 2338, 2352, 2359, 2366, 2373, 2387, 2394, 2401, 2408, 2422, 2429, 2436, 2443, 2457, 2464, 2471, 2478, 2492, 2499, 2506, 2513, 2527, 2534, 2541, 2548, 2562, 2569, 2576, 2583, 2597, 2604, 2611, 2618, 2632, 2639, 2646, 2653, 2667, 2674, 2681, 2688, 2702, 2709, 2716, 2723, 2737, 2744, 2751, 2758, 2772, 2779, 2786, 2793, 2807, 2814, 2821, 2828, 2842, 2849, 2856, 2863, 2877, 2884, 2891, 2898, 2912, 2919, 2926, 2933, 2947, 2954, 2961, 2968, 2982, 2989, 2996, 3003, 3017, 3024, 3031, 3038, 3052, 3059, 3066, 3073, 3087, 3094, 3101, 3108, 3122, 3129, 3136, 3143, 3157, 3164, 3171, 3178, 3192, 3199]\n"
     ]
    }
   ],
   "source": [
    "#Q1\n",
    "liste=[]\n",
    "for i in range (2000,3201):\n",
    "    if (i%7) == 0 and (i%5) != 0:\n",
    "        liste.append(i)\n",
    "        i += 1\n",
    "    else : i+=1\n",
    "print(liste)"
   ]
  },
  {
   "cell_type": "code",
   "execution_count": 5,
   "id": "975cbd78",
   "metadata": {},
   "outputs": [
    {
     "name": "stdout",
     "output_type": "stream",
     "text": [
      "Enter your number : 3\n",
      "Factorial =  6\n"
     ]
    }
   ],
   "source": [
    "#Q2\n",
    "def fact(x):\n",
    "    if x == 1:\n",
    "        return x\n",
    "    else : \n",
    "        return x*fact(x-1)\n",
    "\n",
    "Saisie = int(input(\"Enter your number : \"))\n",
    "if Saisie == 0:\n",
    "    print(\"Factorial = 1\")\n",
    "else:\n",
    "    print(\"Factorial = \",fact(Saisie))\n"
   ]
  },
  {
   "cell_type": "code",
   "execution_count": 6,
   "id": "3454072d",
   "metadata": {},
   "outputs": [
    {
     "name": "stdout",
     "output_type": "stream",
     "text": [
      "Enter your number :8\n"
     ]
    },
    {
     "data": {
      "text/plain": [
       "dict_items([(1, 1), (2, 4), (3, 9), (4, 16), (5, 25), (6, 36), (7, 49), (8, 64)])"
      ]
     },
     "execution_count": 6,
     "metadata": {},
     "output_type": "execute_result"
    }
   ],
   "source": [
    "#Q3\n",
    "dictionnairy = {}\n",
    "saisie = int(input(\"Enter your number :\"))\n",
    "for i in range (1,saisie+1):\n",
    "    dictionnairy[i] = i*i\n",
    "    i+=1\n",
    "    \n",
    "dictionnairy.items()"
   ]
  },
  {
   "cell_type": "code",
   "execution_count": 1,
   "id": "8ccdea8a",
   "metadata": {},
   "outputs": [
    {
     "name": "stdout",
     "output_type": "stream",
     "text": [
      "Enter your string to be modified : kitten\n",
      "Enter your number : 0\n",
      "itten\n"
     ]
    }
   ],
   "source": [
    "#Q4\n",
    "string = input(\"Enter your string to be modified : \")\n",
    "saisie = input(\"Enter your number : \")\n",
    "try:\n",
    "    ((int(saisie) < len(string)) and (int(saisie) >= 0)) == True\n",
    "except SomeError as err:\n",
    "    raise err(\"Please enter a number lower than the length of the string\")\n",
    "string = string.replace(string[int(saisie)],\"\")\n",
    "print(string)\n"
   ]
  },
  {
   "cell_type": "code",
   "execution_count": 17,
   "id": "d3568ee4",
   "metadata": {},
   "outputs": [
    {
     "name": "stdout",
     "output_type": "stream",
     "text": [
      "[[0, 1], [2, 3], [4, 5]]\n"
     ]
    }
   ],
   "source": [
    "#Q5\n",
    "import numpy as np\n",
    "arr = np.array([[0,1],[2,3],[4,5]])\n",
    "liste = arr.tolist()\n",
    "print(liste)"
   ]
  },
  {
   "cell_type": "code",
   "execution_count": 22,
   "id": "c99acfd3",
   "metadata": {},
   "outputs": [
    {
     "name": "stdout",
     "output_type": "stream",
     "text": [
      "Covariance of the first array is :\n",
      "  [[ 1. -1.]\n",
      " [-1.  1.]]\n"
     ]
    }
   ],
   "source": [
    "#Q6\n",
    "import numpy as np\n",
    "arr1 = np.array([0,1,2])\n",
    "arr2 = np.array([2,1,0])\n",
    "print(\"Covariance of the first array is :\\n \", np.cov(arr1,arr2))"
   ]
  },
  {
   "cell_type": "code",
   "execution_count": 8,
   "id": "d135c8a5",
   "metadata": {},
   "outputs": [
    {
     "name": "stdout",
     "output_type": "stream",
     "text": [
      "Enter your values separated by a comma : 100,150,180\n",
      "Initial values :  [100, 150, 180]\n",
      "Result :  [18, 22, 24]\n"
     ]
    }
   ],
   "source": [
    "#Q7\n",
    "import math\n",
    "def cal(x):\n",
    "    return math.sqrt((100*x)/30)\n",
    "saisie = input(\"Enter your values separated by a comma : \")\n",
    "l_input = list(map(int,saisie.split(',')))\n",
    "l_output = []\n",
    "for i in l_input:\n",
    "    l_output.append(cal(i))\n",
    "l_final = list(map(int,l_output))\n",
    "print(\"Initial values : \", l_input)\n",
    "print(\"Result : \", l_final)"
   ]
  },
  {
   "cell_type": "code",
   "execution_count": null,
   "id": "cd3bbdd0",
   "metadata": {},
   "outputs": [],
   "source": []
  }
 ],
 "metadata": {
  "kernelspec": {
   "display_name": "Python 3 (ipykernel)",
   "language": "python",
   "name": "python3"
  },
  "language_info": {
   "codemirror_mode": {
    "name": "ipython",
    "version": 3
   },
   "file_extension": ".py",
   "mimetype": "text/x-python",
   "name": "python",
   "nbconvert_exporter": "python",
   "pygments_lexer": "ipython3",
   "version": "3.9.7"
  }
 },
 "nbformat": 4,
 "nbformat_minor": 5
}
